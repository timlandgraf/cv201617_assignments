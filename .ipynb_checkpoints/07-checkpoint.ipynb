{
 "cells": [
  {
   "cell_type": "markdown",
   "metadata": {},
   "source": [
    "# Übung 7: Histogram of Oriented Gradients\n",
    "## Paper lesen\n",
    "Schau mal in den Bereich \"Resources\" im KVV und lies die HOG-Originalarbeit von Dalal und Triggs von 2005 und die gute Zusammenfassung von Tomasi (diese würde ich zuerst lesen). Jetzt solltest Du keine Probleme mit der Implementierung des Algorithmus haben!   \n",
    "\n",
    "## Gradienten und -richtungen\n",
    "Implementiere zunächst die Extraktion des Gradienten mit den zentralen Differenzen (nicht mit Sobel!). Übersetze die beiden Ergebnismatrizen in ein Bild das die Gradientenrichtung (einen Winkel pro Pixel) beinhaltet. Zeige dieses Bild für das Eingabebild \"XXXXX\" an.  "
   ]
  },
  {
   "cell_type": "code",
   "execution_count": 4,
   "metadata": {
    "collapsed": false
   },
   "outputs": [
    {
     "ename": "NameError",
     "evalue": "name 'plt' is not defined",
     "output_type": "error",
     "traceback": [
      "\u001b[0;31m---------------------------------------------------------------------------\u001b[0m",
      "\u001b[0;31mNameError\u001b[0m                                 Traceback (most recent call last)",
      "\u001b[0;32m<ipython-input-4-08f4a4529777>\u001b[0m in \u001b[0;36m<module>\u001b[0;34m()\u001b[0m\n\u001b[1;32m      7\u001b[0m \u001b[0mpers3\u001b[0m \u001b[1;33m=\u001b[0m \u001b[0mio\u001b[0m\u001b[1;33m.\u001b[0m\u001b[0mimread\u001b[0m\u001b[1;33m(\u001b[0m\u001b[1;34m'C:/Users/Tim/Downloads/pedestrians128x64/per00007.ppm'\u001b[0m\u001b[1;33m)\u001b[0m\u001b[1;33m\u001b[0m\u001b[0m\n\u001b[1;32m      8\u001b[0m \u001b[1;33m\u001b[0m\u001b[0m\n\u001b[0;32m----> 9\u001b[0;31m \u001b[0mfig\u001b[0m \u001b[1;33m=\u001b[0m \u001b[0mplt\u001b[0m\u001b[1;33m.\u001b[0m\u001b[0mfigure\u001b[0m\u001b[1;33m(\u001b[0m\u001b[0mfigsize\u001b[0m\u001b[1;33m=\u001b[0m\u001b[1;33m(\u001b[0m\u001b[1;36m15\u001b[0m\u001b[1;33m,\u001b[0m \u001b[1;36m10\u001b[0m\u001b[1;33m)\u001b[0m\u001b[1;33m)\u001b[0m\u001b[1;33m\u001b[0m\u001b[0m\n\u001b[0m\u001b[1;32m     10\u001b[0m \u001b[0max1\u001b[0m \u001b[1;33m=\u001b[0m \u001b[0mplt\u001b[0m\u001b[1;33m.\u001b[0m\u001b[0msubplot\u001b[0m\u001b[1;33m(\u001b[0m\u001b[1;36m1\u001b[0m\u001b[1;33m,\u001b[0m \u001b[1;36m3\u001b[0m\u001b[1;33m,\u001b[0m \u001b[1;36m1\u001b[0m\u001b[1;33m)\u001b[0m\u001b[1;33m\u001b[0m\u001b[0m\n\u001b[1;32m     11\u001b[0m \u001b[0max2\u001b[0m \u001b[1;33m=\u001b[0m \u001b[0mplt\u001b[0m\u001b[1;33m.\u001b[0m\u001b[0msubplot\u001b[0m\u001b[1;33m(\u001b[0m\u001b[1;36m1\u001b[0m\u001b[1;33m,\u001b[0m \u001b[1;36m3\u001b[0m\u001b[1;33m,\u001b[0m \u001b[1;36m2\u001b[0m\u001b[1;33m)\u001b[0m\u001b[1;33m\u001b[0m\u001b[0m\n",
      "\u001b[0;31mNameError\u001b[0m: name 'plt' is not defined"
     ]
    }
   ],
   "source": [
    "%matplotlib inline \n",
    "from skimage import io,color\n",
    "import numpy as np\n",
    "\n",
    "pers1 = io.imread('C:/Users/Tim/Downloads/pedestrians128x64/per00002.ppm')\n",
    "pers2 = io.imread('C:/Users/Tim/Downloads/pedestrians128x64/per00007.ppm')\n",
    "pers3 = io.imread('C:/Users/Tim/Downloads/pedestrians128x64/per00010.ppm')\n",
    "\n",
    "fig = plt.figure(figsize=(15, 10))\n",
    "ax1 = plt.subplot(1, 3, 1)\n",
    "ax2 = plt.subplot(1, 3, 2)\n",
    "ax3 = plt.subplot(1, 3, 3)\n",
    "\n",
    "ax1.imshow(pers1)\n",
    "ax2.imshow(pers2)\n",
    "ax3.imshow(pers3)\n"
   ]
  },
  {
   "cell_type": "markdown",
   "metadata": {},
   "source": [
    "## Gradientenrichtungshistogramme (GRH)\n",
    "Nun implementiere eine Funktion, die GRH auf Bildzellen erzeugt. Übergeben an die Funktion ein Gradientenrichtungsbild wie oben beschrieben. Die Bildzellen sollen 8 x 8 Pixel groß sein. Bitte nicht  das Voting mit \"bi-linearer Interpolation\" vergessen (wichtig!). Zeige das GRH für die Eingabebilder \"XXX\" und \"XXXXXX\" einmal mit und einmal ohne Interpolation an!"
   ]
  },
  {
   "cell_type": "code",
   "execution_count": null,
   "metadata": {
    "collapsed": true
   },
   "outputs": [],
   "source": []
  },
  {
   "cell_type": "markdown",
   "metadata": {},
   "source": [
    "## Block- und ROI-Normierung und Erstellung des Deskriptors\n",
    "Gegeben ein ROI fester Größe (128 x 64 Pixel) erstelle einen Deskriptor, wie in der Vorlesung beschrieben. Hierzu bitte die vorberechneten  Zell-Histogramme für die Blöcke wiederverwenden!\n",
    "\n",
    "Lade Bild \"XXX\" und setze berechne den Deskriptor für die ROI-Position XX, XX. \n"
   ]
  },
  {
   "cell_type": "code",
   "execution_count": null,
   "metadata": {
    "collapsed": true
   },
   "outputs": [],
   "source": []
  }
 ],
 "metadata": {
  "anaconda-cloud": {},
  "kernelspec": {
   "display_name": "Python [default]",
   "language": "python",
   "name": "python3"
  },
  "language_info": {
   "codemirror_mode": {
    "name": "ipython",
    "version": 3
   },
   "file_extension": ".py",
   "mimetype": "text/x-python",
   "name": "python",
   "nbconvert_exporter": "python",
   "pygments_lexer": "ipython3",
   "version": "3.5.2"
  }
 },
 "nbformat": 4,
 "nbformat_minor": 1
}
