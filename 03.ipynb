{
 "cells": [
  {
   "cell_type": "markdown",
   "metadata": {},
   "source": [
    "# Übung 3\n",
    "## Aufgabe 1: Hough für Linien\n",
    "### Linien zeichnen\n",
    "Implementiere eine Funktion zum Zeichnung von Linien, gegeben eine Parameterkombination der Hesseschen Normalform. Zeichne die Geraden (a, r): (20, 20), (20, 10), (110, 0), (-70, 10)"
   ]
  },
  {
   "cell_type": "code",
   "execution_count": null,
   "metadata": {
    "collapsed": true
   },
   "outputs": [],
   "source": [
    "from skimage.draw import line\n",
    "def draw_line_hessian_normal(image, a, r)\n",
    "\n",
    "#r = x*cosa + y*sina\n",
    "\n",
    "# compute start and end point of line \n",
    "x0 = 0;\n",
    "y0 = \n",
    "x1 = \n",
    "y1 = \n",
    "\n"
   ]
  },
  {
   "cell_type": "markdown",
   "metadata": {},
   "source": [
    "### Hough-Akkumulator\n",
    "Implementiere das Füllen des Hough-Akkumulators, gegeben: ein Kantenbild. Zurückgegeben werden soll der Akkumulator als Matrix. "
   ]
  },
  {
   "cell_type": "code",
   "execution_count": null,
   "metadata": {
    "collapsed": true
   },
   "outputs": [],
   "source": [
    "def fill_hough_accumulator\n",
    "\n",
    "\n",
    "return acc"
   ]
  },
  {
   "cell_type": "markdown",
   "metadata": {},
   "source": [
    "Zeige den Akkumulator als Bild für zwei Eingaben: (1) ein Bild mit zwei beliebigen (nicht gleichen) Kantenpixeln. Füge einen weiteren Kantenpixel hinzu, der in der Nähe des Mittelpunkts beider Positionen liegt (2) und zeige den Akkumulator für diese \"krumme Kante\". "
   ]
  },
  {
   "cell_type": "code",
   "execution_count": null,
   "metadata": {
    "collapsed": true
   },
   "outputs": [],
   "source": []
  },
  {
   "cell_type": "markdown",
   "metadata": {},
   "source": [
    "### Extraktion der höchstbewerteten Geraden\n",
    "Letzter Schritt: Schreibe eine Funktion, die die besten n Parameterkombinationen findet und zurückgibt."
   ]
  },
  {
   "cell_type": "code",
   "execution_count": null,
   "metadata": {
    "collapsed": true
   },
   "outputs": [],
   "source": [
    "def find_n_local_maxima(acc)"
   ]
  },
  {
   "cell_type": "markdown",
   "metadata": {},
   "source": [
    "### Geraden finden!\n",
    "Nimm Dir das Bild \"images/street.jpg\", benutze den Canny-Kantendetektor (entweder Deinen eigenen aus der vorigen Übung oder den von skimage) um ein Kantenbild zu erzeugen und benutze alle Funktionen dieses Zettels um die n besten Linien zu finden und zu zeichnen. Variiere die Canny-Schwellwerte und die Standardabweichung des Gaußkernels für die Weichzeichnung, um gute und schlechte Kantenbilder zu generieren. \n",
    "\n",
    "Oh, und wusstest Du, dass Du die execution time einer Zelle mit dem initialen Statement \"%%time\" einschalten kannst? Miss doch mal die Laufzeit deiner Hough-Implementierung für Bilder mit vielen oder wenigen Kantenpixeln.  \n"
   ]
  },
  {
   "cell_type": "code",
   "execution_count": 18,
   "metadata": {
    "collapsed": false
   },
   "outputs": [
    {
     "name": "stdout",
     "output_type": "stream",
     "text": [
      "Wall time: 302 ms\n"
     ]
    },
    {
     "data": {
      "image/png": "[encoded data removed]",
      "text/plain": [
       "<matplotlib.figure.Figure at 0x9b799b0>"
      ]
     },
     "metadata": {},
     "output_type": "display_data"
    }
   ],
   "source": [
    "%%time\n",
    "%matplotlib inline \n",
    "from skimage import io, feature, color\n",
    "import numpy as np\n",
    "\n",
    "image = io.imread('images/street.jpg')\n",
    "edges1 = feature.canny(color.rgb2gray(image), 2)\n",
    "io.imshow(edges1)\n"
   ]
  },
  {
   "cell_type": "code",
   "execution_count": null,
   "metadata": {
    "collapsed": true
   },
   "outputs": [],
   "source": []
  }
 ],
 "metadata": {
  "kernelspec": {
   "display_name": "Python 3",
   "language": "python",
   "name": "python3"
  },
  "language_info": {
   "codemirror_mode": {
    "name": "ipython",
    "version": 3
   },
   "file_extension": ".py",
   "mimetype": "text/x-python",
   "name": "python",
   "nbconvert_exporter": "python",
   "pygments_lexer": "ipython3",
   "version": "3.5.1"
  }
 },
 "nbformat": 4,
 "nbformat_minor": 0
}
