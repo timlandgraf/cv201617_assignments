{
 "cells": [
  {
   "cell_type": "markdown",
   "metadata": {},
   "source": [
    "# Übung 8: Einführung in neuronale Netze\n",
    "\n",
    "## Plan für die nächsten Vorlesungen\n",
    "In den nächsten vier Vorlesungen werden wir den Stand der Kunst in der Computer Vision aufarbeiten. Die besten Ergebnisse bei ImageNet werden durch sogenannte Deep Convolutional Networks (DCNNs) erreicht. Wer schon vorpreschen will kann mal diese Paper lesen:\n",
    "\n",
    "* [Krizhevsky et al. 2012](https://papers.nips.cc/paper/4824-imagenet-classification-with-deep-convolutional-neural-networks.pdf)\n",
    "* [Razavian et al. 2014](https://arxiv.org/pdf/1403.6382v3.pdf)\n",
    "* [He et al. 2015](https://arxiv.org/pdf/1512.03385v1.pdf)\n",
    "\n",
    "\n",
    "Diese Übung soll Euch zwei Schritte näher bringen eigene Netzwerke zu trainieren:\n",
    "\n",
    "### Theorie neuronaler Netze und der gebräuchlichsten Trainingsmethode \"Backpropagation\"\n",
    "\n",
    "Bitte lest Euch folgendes Material durch. Es gibt dazu noch einiges im Ressourcenbereich des KVV.\n",
    "\n",
    "* Vorlesungsverzeichnis des Stanford CV-Kurses [CS321](http://cs231n.stanford.edu/syllabus.html)\n",
    "   * arbeitet hier mindestens die [Vorlesung zu Backpropagation](http://cs231n.stanford.edu/slides/winter1516_lecture4.pdf) durch \n",
    "   * die [lecture notes dazu](http://cs231n.github.io/optimization-2) auch!\n",
    "* Wer lieber Videos guckt, dem empfehle ich [Nando de Freitas Deep Learning Kurs](https://www.cs.ox.ac.uk/people/nando.defreitas/machinelearning/) \n",
    "* Tip: es gibt auch [Raúl Rojas' Buch \"Neural Networks\" online](https://page.mi.fu-berlin.de/rojas/neural/chapter/K7.pdf)!\n",
    "* natürlich gibt es unendlich viel Material dazu im Internet - wer suchet der findet! \n",
    "\n",
    "### Vorbereitung für den Praxiseinsatz: Theano und Keras\n",
    "Wir werden in den letzten Übungen Keras auf Theano verwenden. Lest Euch mal [hier](https://keras.io/) durch was das heißt. Zum Schluss: [Trainiere ein kleines Netzwerk auf den MNIST Datensatz](https://github.com/wxs/keras-mnist-tutorial/blob/master/MNIST%20in%20Keras.ipynb)!\n"
   ]
  },
  {
   "cell_type": "code",
   "execution_count": null,
   "metadata": {
    "collapsed": true
   },
   "outputs": [],
   "source": []
  }
 ],
 "metadata": {
  "anaconda-cloud": {},
  "kernelspec": {
   "display_name": "Python [conda root]",
   "language": "python",
   "name": "conda-root-py"
  },
  "language_info": {
   "codemirror_mode": {
    "name": "ipython",
    "version": 3
   },
   "file_extension": ".py",
   "mimetype": "text/x-python",
   "name": "python",
   "nbconvert_exporter": "python",
   "pygments_lexer": "ipython3",
   "version": "3.5.2"
  }
 },
 "nbformat": 4,
 "nbformat_minor": 1
}
