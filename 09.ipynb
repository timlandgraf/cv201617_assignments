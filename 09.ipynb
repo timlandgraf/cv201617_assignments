{
 "cells": [
  {
   "cell_type": "markdown",
   "metadata": {},
   "source": [
    "# Übung 09: Backpropagation\n",
    "\n",
    "Anmerkung: Die in der Vorlesung benutzte Notation folgt der im [Buch von Raúl Rojas](https://page.mi.fu-berlin.de/rojas/neural/chapter/K7.pdf) verwendeten. \n",
    "\n",
    "In dieser Übung werden wir Backpropagation in seiner Matrix-Formulierung implementieren. Lies dazu die Seiten 164 - 171 im Buch gründlich durch.\n",
    "\n",
    "Testen werden wir Deine Implementierung auf einem Datensatz für handgeschriebene Ziffern ([MNIST](http://yann.lecun.com/exdb/mnist/)). Schau Dir auf der Webseite mal die Baselines an. Wie misst man die Performance eines Modells? Wie wird Dein Netzwerk wohl abschneiden? \n",
    "\n",
    "[Lade am Besten hier Training- und Testdatensatz herunter.](http://deeplearning.net/data/mnist/mnist.pkl.gz) Lies den dazugehörigen Absatz in [diesem Artikel](http://deeplearning.net/tutorial/gettingstarted.html#mnist-dataset).\n",
    "\n",
    "## Daten angucken\n",
    "Wähle aus jeder Klasse zufällig drei Beispiele und stelle sie hier dar.  "
   ]
  },
  {
   "cell_type": "code",
   "execution_count": null,
   "metadata": {
    "collapsed": true
   },
   "outputs": [],
   "source": []
  },
  {
   "cell_type": "markdown",
   "metadata": {},
   "source": [
    "## Netzwerk-Definition und  Feed-Forward-Schritt\n",
    "Bevor es losgeht einige grundlegende Schritte. Definiere eine Netzwerk-Klasse für drei-schichtige Netzwerke (input, hidden, output) mit zwei Gewichtsschichten. Die Zahl der Neurone für jede Schicht soll bei der Erstellung der Klasse als Parameter übergeben werden können. Wieviel Ausgabeneurone sollten wir nehmen? Achtung: im Buch wird ein zusätzliches Gewicht, der sogenannte Bias, eingeführt. Es empfiehlt sich, den mitzuimplementieren! \n",
    "\n",
    "Implementiere jetzt den Feed-Forward-Schritt, also die Berechnung und das Abspeichern der Ausgaben jedes Neurons, bzw. seiner Ableitung. Orientiere Dich dabei gleich an der Matrix-Form auf den Seiten 170-171 des Buches. Initialisiere die Gewichte zufällig und teste Dein Netzwerk indem Du einige zufällig gewählte Bilder in das Netzwerk steckst und seine Klasse auf Basis der Netzwerkausgaben vorhersagst. Stelle Eingabe und Ausgabe gegenüber."
   ]
  },
  {
   "cell_type": "code",
   "execution_count": null,
   "metadata": {
    "collapsed": true
   },
   "outputs": [],
   "source": []
  },
  {
   "cell_type": "markdown",
   "metadata": {},
   "source": [
    "## Backpropagation und Validierung\n",
    "Implementiere Backpropagation, wie im Buch beschrieben und zu guter Letzt noch eine Validierungsfunktion, die gegeben einen Testdatensatz, die Proportion der falschen Antworten berechnet. \n",
    "\n",
    "Trainiere nun das Netzwerk auf das Trainings-Set und validiere das Ergebnis! Was ist die Fehlerrate des Netzes?\n",
    "\n",
    "Stelle wieder eine Anzahl zufällig gewählter Testbilder mit den dazugehörigen Antworten nebeneinander dar!\n",
    "\n",
    "Welche Bilder werden falsch klassifiziert und was denkt das Netzwerk zu welcher Klasse die Eingabe gehört?"
   ]
  },
  {
   "cell_type": "code",
   "execution_count": null,
   "metadata": {
    "collapsed": true
   },
   "outputs": [],
   "source": []
  }
 ],
 "metadata": {
  "anaconda-cloud": {},
  "kernelspec": {
   "display_name": "Python [default]",
   "language": "python",
   "name": "python3"
  },
  "language_info": {
   "codemirror_mode": {
    "name": "ipython",
    "version": 3
   },
   "file_extension": ".py",
   "mimetype": "text/x-python",
   "name": "python",
   "nbconvert_exporter": "python",
   "pygments_lexer": "ipython3",
   "version": "3.5.2"
  }
 },
 "nbformat": 4,
 "nbformat_minor": 1
}
